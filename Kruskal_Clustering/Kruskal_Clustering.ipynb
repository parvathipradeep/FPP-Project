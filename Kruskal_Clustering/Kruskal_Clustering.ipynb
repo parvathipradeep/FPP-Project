{
 "cells": [
  {
   "cell_type": "markdown",
   "metadata": {},
   "source": [
    "# 21DS603 Term Project \n",
    "## Question: Implement Clustering Concept using Kruskal's algorithm\n",
    "\n",
    "## TEAM 6\n",
    "### ANSHUMAN PILLAI : CB.EN.P2DSC21003\n",
    "### PARVATHI PRADEEP :CB.EN.P2DSC21019"
   ]
  },
  {
   "cell_type": "code",
   "execution_count": 1,
   "metadata": {},
   "outputs": [],
   "source": [
    "import numpy as np\n",
    "from scipy.spatial import KDTree\n",
    "from collections import defaultdict\n",
    "from networkx.algorithms import tree\n",
    "import matplotlib.pyplot as plt\n",
    "import networkx as nx"
   ]
  },
  {
   "cell_type": "markdown",
   "metadata": {},
   "source": [
    "### We generate 5 points with random distances using KD Tree. The result is a sparse matrix containing all the connected points and their distances."
   ]
  },
  {
   "cell_type": "code",
   "execution_count": 2,
   "metadata": {},
   "outputs": [
    {
     "name": "stdout",
     "output_type": "stream",
     "text": [
      "  (0, 1)\t0.527955845381816\n",
      "  (0, 2)\t0.3115987961578865\n",
      "  (0, 3)\t0.4578589206898065\n",
      "  (0, 4)\t0.4677405543306638\n",
      "  (1, 0)\t0.527955845381816\n",
      "  (1, 2)\t0.23449683240712002\n",
      "  (1, 3)\t0.07115158281784927\n",
      "  (1, 4)\t0.6163659324871216\n",
      "  (2, 0)\t0.3115987961578865\n",
      "  (2, 1)\t0.23449683240712002\n",
      "  (2, 3)\t0.17360784837029442\n",
      "  (2, 4)\t0.43064621831932515\n",
      "  (3, 0)\t0.4578589206898065\n",
      "  (3, 1)\t0.07115158281784927\n",
      "  (3, 2)\t0.17360784837029442\n",
      "  (3, 4)\t0.5803251988276575\n",
      "  (4, 0)\t0.4677405543306638\n",
      "  (4, 1)\t0.6163659324871216\n",
      "  (4, 2)\t0.43064621831932515\n",
      "  (4, 3)\t0.5803251988276575\n"
     ]
    }
   ],
   "source": [
    "N   = 5\n",
    "pts = np.random.random((N,2))\n",
    "\n",
    "tree = KDTree(pts)\n",
    "g2=tree.sparse_distance_matrix(tree,1.0)\n",
    "print(g2)"
   ]
  },
  {
   "cell_type": "markdown",
   "metadata": {},
   "source": [
    "### Here the list l2 contains the start node,end node and the weight as the distance between them. This given as an input to create the graph"
   ]
  },
  {
   "cell_type": "code",
   "execution_count": 3,
   "metadata": {},
   "outputs": [
    {
     "name": "stdout",
     "output_type": "stream",
     "text": [
      "[[0, 1, 0.527955845381816], [0, 2, 0.3115987961578865], [0, 3, 0.4578589206898065], [0, 4, 0.4677405543306638], [1, 0, 0.527955845381816], [1, 2, 0.23449683240712002], [1, 3, 0.07115158281784927], [1, 4, 0.6163659324871216], [2, 0, 0.3115987961578865], [2, 1, 0.23449683240712002], [2, 3, 0.17360784837029442], [2, 4, 0.43064621831932515], [3, 0, 0.4578589206898065], [3, 1, 0.07115158281784927], [3, 2, 0.17360784837029442], [3, 4, 0.5803251988276575], [4, 0, 0.4677405543306638], [4, 1, 0.6163659324871216], [4, 2, 0.43064621831932515], [4, 3, 0.5803251988276575]]\n"
     ]
    }
   ],
   "source": [
    "l2=[]\n",
    "a=[]\n",
    "keys=list(g2.keys())\n",
    "values=list(g2.values())\n",
    "for i in range(len(keys)):\n",
    "    a=list([keys[i][0],keys[i][1],values[i]])\n",
    "    l2.append(a)\n",
    "print(l2)"
   ]
  },
  {
   "cell_type": "markdown",
   "metadata": {},
   "source": [
    "### To represent the graph structure, we use a class Graph that initializes the vertices and a dictionary to store the graph. The find function is used to find the parent node for the respective vertice . The union function will combine the minimum edge weight nodes based on the current parent node and the rank. \n",
    "### The graph made is sorted and then the Kruskal algorithm is used for clustering. Finally the (k-1) expensive edges are removed to obtain the k clusters. \n",
    "### To get the unconnected nodes, the difference between the set of vertices and the set of mst vertices is taken."
   ]
  },
  {
   "cell_type": "code",
   "execution_count": 4,
   "metadata": {},
   "outputs": [
    {
     "name": "stdout",
     "output_type": "stream",
     "text": [
      "res [[1, 3, 0.07115158281784927], [2, 3, 0.17360784837029442]]\n",
      "Edges in the constructed MST\n",
      "1 -- 3 == 0\n",
      "2 -- 3 == 0\n"
     ]
    }
   ],
   "source": [
    "# Class to represent a graph\n",
    "\n",
    "class Graph:\n",
    "\n",
    "    def __init__(self, vertices):\n",
    "        self.V = vertices # No. of vertices\n",
    "        self.graph = [] # default dictionary to store graph\n",
    "\n",
    "    # function to add an edge to graph\n",
    "    def addEdge(self, u, v, w):\n",
    "        self.graph.append([u, v, w])\n",
    "\n",
    "    # A utility function to find set of an element i (uses path compression technique)\n",
    "    def find(self, parent, i):\n",
    "        if parent[i] == i:\n",
    "            return i\n",
    "        return self.find(parent, parent[i])\n",
    "\n",
    "    # A function that does union of two sets of x and y (uses union by rank)\n",
    "    def union(self, parent, rank, x, y):\n",
    "        xroot = self.find(parent, x)\n",
    "        yroot = self.find(parent, y)\n",
    "\n",
    "        # Attach smaller rank tree under root of\n",
    "        # high rank tree (Union by Rank)\n",
    "        if rank[xroot] < rank[yroot]:\n",
    "            parent[xroot] = yroot\n",
    "        elif rank[xroot] > rank[yroot]:\n",
    "            parent[yroot] = xroot\n",
    "\n",
    "        # If ranks are same, then make one as root and increment its rank by one\n",
    "        else:\n",
    "            parent[yroot] = xroot\n",
    "            rank[xroot] += 1\n",
    "\n",
    "\n",
    "    def KruskalMST(self,k):\n",
    "\n",
    "        result = [] # This will store the resultant MST\n",
    "        \n",
    "        # An index variable, used for sorted edges\n",
    "        i = 0\n",
    "\n",
    "        # An index variable, used for result[]\n",
    "        e = 0\n",
    "       \n",
    "        # sort edges according to their weights\n",
    "\n",
    "        self.graph = sorted(self.graph,key=lambda item: item[2])\n",
    "\n",
    "        parent = [] # to store the current list of parent nodes\n",
    "        rank = [] # to store the rank of the nodes\n",
    "\n",
    "        # Create V subsets with single elements\n",
    "        for node in range(self.V):\n",
    "            parent.append(node)\n",
    "            rank.append(0)\n",
    "\n",
    "        # Number of edges less than k for the k clusters and the target class has k classes in it.\n",
    "        while e<self.V-1 :\n",
    "\n",
    "            # Step 2: Pick the smallest edge and increment\n",
    "            # the index for next iteration\n",
    "            u, v, w = self.graph[i]\n",
    "            i = i + 1\n",
    "            x = self.find(parent, u)\n",
    "            y = self.find(parent, v)\n",
    "\n",
    "            # If including this edge does't\n",
    "            # cause cycle, include it in result\n",
    "            # and increment the indexof result\n",
    "            # for next edge\n",
    "            if x != y:\n",
    "                e = e + 1\n",
    "                result.append([u, v, w])\n",
    "                self.union(parent, rank, x, y)\n",
    "            \n",
    "            # Else discard the edge\n",
    "        \n",
    "        if k==1:\n",
    "             return result,[] # k=1 implies full MST. So return the whole set of nodes and empty list for unconnected nodes.\n",
    "        else:\n",
    "            result=result[:-(k-1)] # this gives the required k clusters\n",
    "            print(\"res\",result)\n",
    "            \n",
    "            A=set(i for i in range(0,self.V))  # All the vertices as a set\n",
    "            # B=set of all connected nodes\n",
    "            B=set.union(set(result[i][0] for i in range(len(result))),set(result[i][1] for i in range(len(result)))) \n",
    "        \n",
    "            minimumCost = 0\n",
    "            print (\"Edges in the constructed MST\")\n",
    "            for u, v, weight in result:\n",
    "                minimumCost += weight\n",
    "                print(\"%d -- %d == %d\" % (u, v, weight))\n",
    "            #print(\"Minimum Spanning Tree\" , minimumCost)\n",
    "\n",
    "        # returns the connected vertices as found by kruskal and the left out vertices as difference of sets A and B\n",
    "            return result,A.difference(B)  \n",
    "\n",
    "# Driver code\n",
    "g3=Graph(5)\n",
    "for i in range(len(l2)):\n",
    "    g3.addEdge(l2[i][0],l2[i][1],l2[i][2])\n",
    "\n",
    "# Function call\n",
    "r,sep=g3.KruskalMST(3)  # k given as parameter for function\n",
    "\n",
    "# Stores the result and unconnected nodes separately for plotting\n"
   ]
  },
  {
   "cell_type": "markdown",
   "metadata": {},
   "source": [
    "### Printing the connected and unconnected nodes"
   ]
  },
  {
   "cell_type": "code",
   "execution_count": 5,
   "metadata": {},
   "outputs": [
    {
     "name": "stdout",
     "output_type": "stream",
     "text": [
      "[[1, 3, 0.07115158281784927], [2, 3, 0.17360784837029442]]\n"
     ]
    }
   ],
   "source": [
    "print(r)"
   ]
  },
  {
   "cell_type": "code",
   "execution_count": 6,
   "metadata": {},
   "outputs": [
    {
     "name": "stdout",
     "output_type": "stream",
     "text": [
      "[0, 4]\n"
     ]
    }
   ],
   "source": [
    "unconnected_pts=list(sep)\n",
    "print(unconnected_pts)"
   ]
  },
  {
   "cell_type": "markdown",
   "metadata": {},
   "source": [
    "### Plotting the vertices as clusters"
   ]
  },
  {
   "cell_type": "code",
   "execution_count": 7,
   "metadata": {},
   "outputs": [
    {
     "data": {
      "image/png": "[encoded data removed]",
      "text/plain": [
       "<Figure size 432x288 with 1 Axes>"
      ]
     },
     "metadata": {},
     "output_type": "display_data"
    }
   ],
   "source": [
    "g = nx.Graph()\n",
    "for i in range(len(r)):\n",
    "    g.add_edge(r[i][0],r[i][1],weight=r[i][2]) # plotting connected nodes\n",
    "for i in range(len(unconnected_pts)):\n",
    "    g.add_node(unconnected_pts[i])             # plotting unconnected nodes\n",
    "    \n",
    "nx.draw(g,with_labels=True)"
   ]
  },
  {
   "cell_type": "markdown",
   "metadata": {},
   "source": [
    "### Example Set of Points for graph"
   ]
  },
  {
   "cell_type": "code",
   "execution_count": null,
   "metadata": {},
   "outputs": [],
   "source": [
    "# g = Graph(7)\n",
    "# g.addEdge(0,1,28)\n",
    "# g.addEdge(0,5,10)\n",
    "# g.addEdge(1,2,16)\n",
    "# g.addEdge(1,6,14)\n",
    "# g.addEdge(2,3,12)\n",
    "# g.addEdge(3,6,18)\n",
    "# g.addEdge(3,4,22)\n",
    "# g.addEdge(4,6,24)\n",
    "# g.addEdge(4,5,25)\n"
   ]
  }
 ],
 "metadata": {
  "kernelspec": {
   "display_name": "Python 3",
   "language": "python",
   "name": "python3"
  },
  "language_info": {
   "codemirror_mode": {
    "name": "ipython",
    "version": 3
   },
   "file_extension": ".py",
   "mimetype": "text/x-python",
   "name": "python",
   "nbconvert_exporter": "python",
   "pygments_lexer": "ipython3",
   "version": "3.8.3"
  }
 },
 "nbformat": 4,
 "nbformat_minor": 4
}
